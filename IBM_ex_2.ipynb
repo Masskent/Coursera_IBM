{
 "cells": [
  {
   "cell_type": "markdown",
   "metadata": {},
   "source": [
    "<h1> My Jupyter Notebook on IBM Watson Studio </h1>"
   ]
  },
  {
   "cell_type": "markdown",
   "metadata": {},
   "source": [
    "**Mass** <br>\n",
    "I want to occupy a datascientist post"
   ]
  },
  {
   "cell_type": "markdown",
   "metadata": {},
   "source": [
    "*I'm interested in data science and in time series because it is a great technology wich permit to deal with data and optimize the world*"
   ]
  },
  {
   "cell_type": "markdown",
   "metadata": {},
   "source": [
    "<h3> In the next cells we'll print the setence hello world by stacking it in a variable </h3>"
   ]
  },
  {
   "cell_type": "code",
   "execution_count": null,
   "metadata": {},
   "outputs": [],
   "source": [
    "setence = \"hello world\"\n",
    "print(setence)"
   ]
  },
  {
   "cell_type": "markdown",
   "metadata": {},
   "source": [
    "Bulleted list :\n",
    "there is:\n",
    "- bulleted item\n",
    "- table\n",
    "- horizontal line\n",
    "\n",
    "\n",
    "Table:\n",
    "\n",
    "| 1    | 2    |\n",
    "|------|------|\n",
    "|   a  | b    |\n",
    "\n",
    "***\n"
   ]
  },
  {
   "cell_type": "markdown",
   "metadata": {},
   "source": [
    "note: This Jupyter notebook is not on IBM because the platform is asking for a credit card and I don't want to share my credit card, we never know."
   ]
  }
 ],
 "metadata": {
  "language_info": {
   "name": "python"
  },
  "orig_nbformat": 4
 },
 "nbformat": 4,
 "nbformat_minor": 2
}
